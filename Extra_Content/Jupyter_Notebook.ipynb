{
 "cells": [
  {
   "cell_type": "markdown",
   "metadata": {},
   "source": [
    "<center>\n",
    "    <img src=\"https://cf-courses-data.s3.us.cloud-object-storage.appdomain.cloud/IBMDeveloperSkillsNetwork-DS0105EN-SkillsNetwork/labs/Module2/images/SN_web_lightmode.png\" width=\"300\" alt=\"cognitiveclass.ai logo\">\n",
    "</center>\n"
   ]
  },
  {
   "cell_type": "markdown",
   "metadata": {},
   "source": [
    "# Assignment Jupiter Notebook \n",
    "\n"
   ]
  },
  {
   "cell_type": "markdown",
   "metadata": {},
   "source": [
    "# Introduction\n",
    "\n",
    "Welcome to this Jupyter Notebook! This interactive document serves as a platform for learning and exploring various concepts related to data science, programming, and more. Whether you're a beginner or an experienced data scientist, this notebook can be a valuable resource for your journey.\n",
    "\n",
    "## Purpose\n",
    "\n",
    "The purpose of this notebook is to:\n",
    "\n",
    "- Introduce and practice fundamental data science and programming tasks.\n",
    "- Learn how to use Python, a versatile language for data analysis, machine learning, and more.\n",
    "- Explore the capabilities of Jupyter Notebook, a powerful tool for interactive computing and documentation.\n",
    "- Experiment with Markdown, a lightweight markup language for creating well-formatted, structured documents.\n",
    "\n",
    "## How to Use This Notebook\n",
    "\n",
    "- You can run code cells to execute Python commands and see the results.\n",
    "- Markdown cells, like this one, are used for documentation, explanations, and instructions.\n",
    "- Feel free to modify and experiment with the code and content as you explore the topics covered.\n",
    "\n",
    "\n",
    "\n"
   ]
  },
  {
   "cell_type": "markdown",
   "metadata": {},
   "source": [
    "\n",
    "Data Science Languages:\n",
    "\n",
    "1. **Python**: Python is the most widely used language in data science. It offers a vast ecosystem of libraries and tools for data manipulation, analysis, visualization, and machine learning.\n",
    "\n",
    "2. **R**: R is a language and environment specifically designed for statistical computing and data analysis. It is popular among statisticians and data scientists for its rich statistical packages.\n",
    "\n",
    "3. **SQL (Structured Query Language)**: SQL is essential for working with databases. Data scientists use SQL to query, manage, and analyze structured data in relational database systems.\n",
    "\n",
    "4. **Julia**: Julia is a high-performance programming language for technical computing. It's known for its speed and is used for numerical and scientific computing.\n",
    "\n",
    "5. **SAS**: SAS (Statistical Analysis System) is a software suite used for advanced analytics, business intelligence, and data management. It's particularly prevalent in certain industries.\n",
    "\n",
    "6. **Java**: Java is sometimes used in data science, particularly for big data processing using frameworks like Apache Hadoop and Spark.\n",
    "\n",
    "7. **Scala**: Scala is often chosen for data engineering and big data applications, especially when working with Apache Spark.\n",
    "\n",
    "8. **MATLAB**: MATLAB is a proprietary programming language and environment for numerical computing, often used in academic and research settings.\n",
    "\n",
    "9. **JavaScript**: JavaScript can be useful for creating interactive data visualizations and web-based data science applications.\n",
    "\n",
    "10. **C/C++**: C and C++ are occasionally used for high-performance numerical and scientific computing, particularly when speed is critical.\n",
    "\n",
    "These languages have various strengths and are chosen based on the specific needs and preferences of data scientists and data analysts.\n"
   ]
  },
  {
   "cell_type": "markdown",
   "metadata": {},
   "source": [
    "Data Science Libraries:\n",
    "\n",
    "1. **NumPy**: A fundamental library for scientific computing with Python, providing support for arrays and matrices.\n",
    "\n",
    "2. **pandas**: A powerful data manipulation and analysis library for Python, offering data structures and tools for working with structured data.\n",
    "\n",
    "3. **scikit-learn**: An open-source machine learning library for Python that includes various algorithms for classification, regression, clustering, and more.\n",
    "\n",
    "4. **TensorFlow**: An open-source machine learning framework by Google, designed for deep learning and neural networks.\n",
    "\n",
    "5. **PyTorch**: An open-source machine learning library by Facebook's AI Research lab, known for its flexibility and support for dynamic computation graphs.\n",
    "\n",
    "6. **Matplotlib**: A 2D plotting library for Python, used to create a wide range of static and interactive visualizations.\n",
    "\n",
    "7. **Seaborn**: A Python data visualization library built on top of Matplotlib, designed for creating attractive and informative statistical graphics.\n",
    "\n",
    "8. **Statsmodels**: A library for estimating and interpreting statistical models, including linear and non-linear models for data analysis.\n",
    "\n",
    "9. **Keras**: An easy-to-use, high-level neural networks API that can run on top of deep learning frameworks like TensorFlow and Theano.\n",
    "\n",
    "10. **NLTK (Natural Language Toolkit)**: A library for working with human language data, particularly in the field of natural language processing.\n",
    "\n",
    "11. **Gensim**: A library for topic modeling and document similarity analysis, often used for natural language processing tasks.\n",
    "\n",
    "12. **LightGBM**: A gradient boosting framework that uses tree-based learning algorithms and is designed for speed and efficiency.\n",
    "\n",
    "13. **XGBoost**: An optimized and efficient gradient boosting library, widely used for supervised learning tasks.\n",
    "\n",
    "14. **Dask**: A parallel computing library that enables scalable and flexible data analytics and machine learning workflows.\n",
    "\n",
    "15. **NetworkX**: A library for creating, analyzing, and visualizing complex networks and graphs.\n",
    "\n",
    "16. **OpenCV**: An open-source computer vision library that provides tools for image and video analysis.\n",
    "\n",
    "17. **Plotly**: A library for creating interactive and web-based visualizations for data exploration and presentation.\n",
    "\n",
    "These libraries are essential for various data science tasks, including data manipulation, visualization, machine learning, and more.\n",
    "\n",
    "\n"
   ]
  },
  {
   "cell_type": "markdown",
   "metadata": {},
   "source": [
    "| Tool Name         | Description                                           | Website                                 |\n",
    "|-------------------|-------------------------------------------------------|-----------------------------------------|\n",
    "| Python            | A versatile and widely-used programming language for data analysis and machine learning. | [python.org](https://www.python.org/) |\n",
    "| R                 | A language and environment for statistical computing and graphics. | [r-project.org](https://www.r-project.org/) |\n",
    "| Jupyter Notebook  | An open-source web application for interactive data science and scientific computing. | [jupyter.org](https://jupyter.org/) |\n",
    "| NumPy             | A fundamental package for scientific computing with Python, providing support for arrays and matrices. | [numpy.org](https://numpy.org/) |\n",
    "| pandas            | A data manipulation library for Python, providing data structures and data analysis tools. | [pandas.pydata.org](https://pandas.pydata.org/) |\n",
    "| scikit-learn      | A machine learning library for Python that includes a wide range of algorithms and tools. | [scikit-learn.org](https://scikit-learn.org/) |\n",
    "| TensorFlow        | An open-source machine learning framework developed by Google for deep learning applications. | [tensorflow.org](https://www.tensorflow.org/) |\n",
    "| Keras             | An open-source high-level neural networks API written in Python and capable of running on top of TensorFlow. | [keras.io](https://keras.io/) |\n",
    "| PyTorch           | An open-source machine learning framework developed by Facebook's AI Research lab. | [pytorch.org](https://pytorch.org/) |\n",
    "| Matplotlib        | A 2D plotting library for Python, used to create static, animated, or interactive visualizations. | [matplotlib.org](https://matplotlib.org/) |\n",
    "| Seaborn           | A Python data visualization library based on Matplotlib, providing an easier-to-use high-level interface. | [seaborn.pydata.org](https://seaborn.pydata.org/) |\n",
    "| Tableau           | A data visualization tool that allows for interactive and shareable dashboards. | [tableau.com](https://www.tableau.com/) |\n",
    "| Power BI          | A business analytics tool by Microsoft that provides interactive visualizations and business intelligence. | [powerbi.microsoft.com](https://powerbi.microsoft.com/) |\n",
    "| Apache Spark      | An open-source big data processing framework that supports distributed data processing for machine learning. | [spark.apache.org](https://spark.apache.org/) |\n",
    "| SQL               | Structured Query Language for managing and querying relational databases. | [w3schools.com/sql](https://www.w3schools.com/sql/) |\n",
    "\n",
    "\n"
   ]
  },
  {
   "cell_type": "markdown",
   "metadata": {},
   "source": [
    "# Arithmetic Expression Examples\n",
    "\n",
    "Arithmetic expressions are mathematical expressions that involve basic mathematical operations such as addition, subtraction, multiplication, and division. These expressions are used to perform calculations and manipulate numerical values. In data science and programming, arithmetic expressions are frequently used for various tasks, including data analysis, simulation, and modeling.\n",
    "\n",
    "Here are some common arithmetic operators and examples of arithmetic expressions:\n",
    "\n",
    "## Addition (+)\n",
    "\n",
    "The addition operator is used to add two or more numbers together.\n",
    "\n",
    "Example:\n",
    "```python\n",
    "result = 5 + 3  # Adds 5 and 3, result is 8\n"
   ]
  },
  {
   "cell_type": "code",
   "execution_count": null,
   "metadata": {},
   "outputs": [],
   "source": [
    "result1 = 10 + 4  # Add 4 to 10, result is 14\n",
    "result2 = 6 * 2  # Multiplies 6 and 2, result is 12\n"
   ]
  },
  {
   "cell_type": "code",
   "execution_count": null,
   "metadata": {},
   "outputs": [],
   "source": [
    "# Divides 8 by 2, result is 4.0\n",
    "\n",
    "result3 = 8 / 2\n",
    "\n",
    "result4 = 10 % 3  # Calculates the remainder of 10 divided by 3, result is 1"
   ]
  },
  {
   "cell_type": "code",
   "execution_count": null,
   "metadata": {},
   "outputs": [],
   "source": [
    "# Multiply and Add Numbers\n",
    "number1 = 5\n",
    "number2 = 3\n",
    "\n",
    "# Multiplication\n",
    "result_multiplication = number1 * number2\n",
    "\n",
    "# Addition\n",
    "result_addition = number1 + number2\n",
    "\n",
    "result_multiplication, result_addition\n"
   ]
  },
  {
   "cell_type": "code",
   "execution_count": null,
   "metadata": {},
   "outputs": [],
   "source": [
    "\n",
    "# Convert Minutes to Hours\n",
    "minutes = 120  # Change this value to the number of minutes you want to convert\n",
    "\n",
    "# Conversion\n",
    "hours = minutes / 60\n",
    "\n",
    "hours\n"
   ]
  },
  {
   "cell_type": "markdown",
   "metadata": {},
   "source": [
    "# Objectives\n",
    "\n",
    "In this Jupyter Notebook, we have completed the following tasks:\n",
    "\n",
    "1. **Arithmetic Operations**: We've demonstrated how to perform basic arithmetic operations such as addition, subtraction, multiplication, and division in Python.\n",
    "\n",
    "2. **Conversion**: We've shown how to convert minutes to hours using simple Python code.\n",
    "\n",
    "3. **Markdown Language**: We've used Markdown language to format and document our work within this Jupyter Notebook.\n",
    "\n",
    "Now, based on these tasks, our main objectives are:\n",
    "\n",
    "- To understand and apply fundamental arithmetic operations in Python.\n",
    "- To learn and use conversion techniques to transform one unit to another.\n",
    "- To explore and experiment with Python code within a Jupyter Notebook environment.\n",
    "- To become proficient in using Markdown language for creating formatted and structured documentation.\n",
    "\n"
   ]
  },
  {
   "cell_type": "markdown",
   "metadata": {},
   "source": [
    "## Author\n",
    "\n",
    "**Your Name** (Dany Koudede)\n"
   ]
  }
 ],
 "metadata": {
  "kernelspec": {
   "display_name": "Python",
   "language": "python",
   "name": "conda-env-python-py"
  },
  "language_info": {
   "codemirror_mode": {
    "name": "ipython",
    "version": 3
   },
   "file_extension": ".py",
   "mimetype": "text/x-python",
   "name": "python",
   "nbconvert_exporter": "python",
   "pygments_lexer": "ipython3",
   "version": "3.7.12"
  }
 },
 "nbformat": 4,
 "nbformat_minor": 4
}
